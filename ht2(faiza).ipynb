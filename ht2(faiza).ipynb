{
  "nbformat": 4,
  "nbformat_minor": 0,
  "metadata": {
    "colab": {
      "name": "ht2(faiza).ipynb",
      "provenance": [],
      "authorship_tag": "ABX9TyMtSIcy+JNVKxVUiBSUkCmV",
      "include_colab_link": true
    },
    "kernelspec": {
      "name": "python3",
      "display_name": "Python 3"
    },
    "language_info": {
      "name": "python"
    }
  },
  "cells": [
    {
      "cell_type": "markdown",
      "metadata": {
        "id": "view-in-github",
        "colab_type": "text"
      },
      "source": [
        "<a href=\"https://colab.research.google.com/github/faiza-salman/Home-Learning-tasks/blob/main/ht2(faiza).ipynb\" target=\"_parent\"><img src=\"https://colab.research.google.com/assets/colab-badge.svg\" alt=\"Open In Colab\"/></a>"
      ]
    },
    {
      "cell_type": "code",
      "execution_count": null,
      "metadata": {
        "colab": {
          "base_uri": "https://localhost:8080/"
        },
        "id": "zdJ1fMMfXak_",
        "outputId": "de1c5551-c2ff-48e3-e7a9-ffe6a42fb54a"
      },
      "outputs": [
        {
          "output_type": "stream",
          "name": "stdout",
          "text": [
            "First value 3\n",
            "Second value 5\n",
            "select a mathematical operation\n",
            "   +,  -,  /, * \n",
            " mathematical operation *\n",
            "15\n"
          ]
        }
      ],
      "source": [
        "num1 = int(input(\"First value \"))\n",
        "num2 = int(input(\"Second value \"))\n",
        "print(\"\"\"select a mathematical operation\n",
        "   +,  -,  /, * \"\"\")\n",
        "op = input(\" mathematical operation \")\n",
        "def calculate (num1, num2):\n",
        "  if op == \"+\":\n",
        "    print (num1+num2)\n",
        "  elif op == \"-\":\n",
        "    print(num1-num2)\n",
        "  elif op == \"/\":\n",
        "    print (num1/num2)\n",
        "  elif op == \"*\":\n",
        "    print (num1*num2)\n",
        "\n",
        "calculate (num1,num2)"
      ]
    },
    {
      "cell_type": "code",
      "source": [
        "def value (cost , loss):\n",
        "  newcost = cost - cost*loss\n",
        "  while newcost > 1000:\n",
        "   print (newcost)\n",
        "   newcost= newcost- newcost*loss \n",
        "  return newcost\n",
        "value (2000, 10/100)\n"
      ],
      "metadata": {
        "colab": {
          "base_uri": "https://localhost:8080/"
        },
        "id": "KOWM4KDBXkql",
        "outputId": "6b5542c5-8d4d-439b-ec05-4bd223498dd6"
      },
      "execution_count": 5,
      "outputs": [
        {
          "output_type": "stream",
          "name": "stdout",
          "text": [
            "1800.0\n",
            "1620.0\n",
            "1458.0\n",
            "1312.2\n",
            "1180.98\n",
            "1062.882\n"
          ]
        },
        {
          "output_type": "execute_result",
          "data": {
            "text/plain": [
              "956.5938000000001"
            ]
          },
          "metadata": {},
          "execution_count": 5
        }
      ]
    },
    {
      "cell_type": "code",
      "source": [
        "def v (c,l,y):\n",
        "  nc = c- c*l\n",
        "  print (f\"In {y} the price will be {nc:.2f}\")\n",
        "  while nc > 1000:\n",
        "    y +=1\n",
        "    nc = nc - nc*l\n",
        "    if nc >1000:\n",
        "      print(f\"In {y} the price will be {nc:.2f}\")\n",
        "    else:\n",
        "      print(f\"In {y} the price will be below 1000\")\n",
        "v (2000, 10/100, 2022)\n"
      ],
      "metadata": {
        "colab": {
          "base_uri": "https://localhost:8080/"
        },
        "id": "RzTENkLmkdUI",
        "outputId": "7ce8e702-937a-4549-e753-6b6b72b85129"
      },
      "execution_count": 1,
      "outputs": [
        {
          "output_type": "stream",
          "name": "stdout",
          "text": [
            "In 2022 the price will be 1800.00\n",
            "In 2023 the price will be 1620.00\n",
            "In 2024 the price will be 1458.00\n",
            "In 2025 the price will be 1312.20\n",
            "In 2026 the price will be 1180.98\n",
            "In 2027 the price will be 1062.88\n",
            "In 2028 the price will be below 1000\n"
          ]
        }
      ]
    }
  ]
}