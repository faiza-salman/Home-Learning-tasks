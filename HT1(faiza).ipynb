{
 "cells": [
  {
   "cell_type": "code",
   "execution_count": 1,
   "metadata": {},
   "outputs": [
    {
     "name": "stdout",
     "output_type": "stream",
     "text": [
      "Hello! What is your name?\n",
      "Can I interest you in a guessing game? Press y for yes and n for\n",
      "Catch you next time!!!\n"
     ]
    }
   ],
   "source": [
    "print(\"Hello! What is your name?\")\n",
    "abc = input(\"Name \")\n",
    "print(\"Can I interest you in a guessing game? Press y for yes and n for no\")\n",
    "interested = str(input(\"y/n \"))\n",
    "if interested == \"y\":\n",
    "  print(\"Thanks for playing\")\n",
    "  import random\n",
    "  g = int(input(\"your guess \"))\n",
    "  number = random.randint(1,10)\n",
    "  if g == number:\n",
    "    print(abc + \", you guessed correctly!!!\")\n",
    "  else :\n",
    "    print(\"Incorrect!!! The number was \" + format(number) + \". Better luck next time \" + abc)\n",
    "if interested == \"n\":\n",
    "  print(\"Catch you next time!!!\")"
   ]
  },
  {
   "cell_type": "code",
   "execution_count": 2,
   "metadata": {},
   "outputs": [
    {
     "name": "stdout",
     "output_type": "stream",
     "text": [
      "Choose a number between 1 and 100\n",
      "Did you hear the joke about the two fours who weren't hungry? \n",
      "   Because they already eight!\n"
     ]
    }
   ],
   "source": [
    "print(\"Choose a number between 1 and 100\")\n",
    "v = int(input(\"enter the number\"))\n",
    "if v < 30:\n",
    "  print(\"\"\"Did you hear the joke about the two fours who weren't hungry? \n",
    "   Because they already eight!\"\"\")\n",
    "elif v < 60:\n",
    "  print(\"\"\"Why did zero and two break up? \n",
    "  Because some-one got in between them!\"\"\")\n",
    "elif v < 100:\n",
    "  print(\"\"\"How does a rabi makes his coffee?\n",
    "  HeBrews it!\"\"\")"
   ]
  },
  {
   "cell_type": "code",
   "execution_count": 3,
   "metadata": {},
   "outputs": [
    {
     "name": "stdout",
     "output_type": "stream",
     "text": [
      "Hello! I would like to ask a couple of questions\n",
      "What is your favorite meal?\n",
      "Do mention starter, main course and dessert\n",
      " And what is your preferred drink with this meal?\n",
      "You have told me that your favorite meal is soup, steak favorite dessert is molten lava and your preferred drink is lemonade\n"
     ]
    }
   ],
   "source": [
    "print(\"\"\"Hello! I would like to ask a couple of questions\n",
    "What is your favorite meal?\n",
    "Do mention starter, main course and dessert\"\"\")\n",
    "s = input(\"Starter \")\n",
    "m = input(\"Main course \")\n",
    "d = input(\"Dessert \") \n",
    "print(\" And what is your preferred drink with this meal?\")\n",
    "d1 = input(\"Drink \")\n",
    "print(\"You have told me that your favorite meal is \" + s + \", \"+ m + \" favorite dessert is \" + d + \" and your preferred drink is \" + d1)"
   ]
  },
  {
   "cell_type": "code",
   "execution_count": 4,
   "metadata": {},
   "outputs": [
    {
     "name": "stdout",
     "output_type": "stream",
     "text": [
      "1800\n",
      "1600\n",
      "1400\n",
      "1200\n",
      "1000\n"
     ]
    }
   ],
   "source": [
    "cost = 2000\n",
    "loss = 200\n",
    "v = cost - loss\n",
    "while v <2000:\n",
    "  print(v)\n",
    "  if v == 1000:\n",
    "    break\n",
    "  v = v - loss"
   ]
  },
  {
   "cell_type": "code",
   "execution_count": 6,
   "metadata": {},
   "outputs": [
    {
     "name": "stdout",
     "output_type": "stream",
     "text": [
      "Stuck with a math problem!!! Let me help you\n",
      "Choose on of the operations\n",
      "a for addition\n",
      "s for subtraction\n",
      "m for multiplication\n",
      "d for division\n",
      "sq for square to the power of\n",
      "Your answer is 32\n"
     ]
    }
   ],
   "source": [
    "print(\"Stuck with a math problem!!! Let me help you\")\n",
    "x = int(input(\"Enter first value \"))\n",
    "y = int(input(\"Enter second value \"))\n",
    "print (\"\"\"Choose on of the operations\n",
    "a for addition\n",
    "s for subtraction\n",
    "m for multiplication\n",
    "d for division\n",
    "sq for square to the power of\"\"\")\n",
    "op = input(\"operation \")\n",
    "if op == \"a\":\n",
    "  print(\"Your answer is \" + format(x + y))\n",
    "elif op == \"s\":\n",
    "  print(\"Your answer is \" + format(x - y))\n",
    "elif op == \"m\":\n",
    "  print(\"Your answer is \" + format(x * y))\n",
    "elif op == \"d\":\n",
    "  print(\"Your answer is \" + format(x / y))\n",
    "elif op == \"sq\":\n",
    "  print(\"Your answer is \" + format(x ** y))"
   ]
  }
 ],
 "metadata": {
  "interpreter": {
   "hash": "916dbcbb3f70747c44a77c7bcd40155683ae19c65e1c03b4aa3499c5328201f1"
  },
  "kernelspec": {
   "display_name": "Python 3.9.2 64-bit",
   "language": "python",
   "name": "python3"
  },
  "language_info": {
   "codemirror_mode": {
    "name": "ipython",
    "version": 3
   },
   "file_extension": ".py",
   "mimetype": "text/x-python",
   "name": "python",
   "nbconvert_exporter": "python",
   "pygments_lexer": "ipython3",
   "version": "3.9.2"
  },
  "orig_nbformat": 4
 },
 "nbformat": 4,
 "nbformat_minor": 2
}
