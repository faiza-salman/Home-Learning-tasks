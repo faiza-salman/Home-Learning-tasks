{
  "nbformat": 4,
  "nbformat_minor": 0,
  "metadata": {
    "colab": {
      "name": "HLT week4-faiza.ipynb",
      "provenance": [],
      "authorship_tag": "ABX9TyNzWPTPNd5rfwHibHNxLgJs",
      "include_colab_link": true
    },
    "kernelspec": {
      "name": "python3",
      "display_name": "Python 3"
    },
    "language_info": {
      "name": "python"
    }
  },
  "cells": [
    {
      "cell_type": "markdown",
      "metadata": {
        "id": "view-in-github",
        "colab_type": "text"
      },
      "source": [
        "<a href=\"https://colab.research.google.com/github/faiza-salman/Home-Learning-tasks/blob/main/HLT_week4_faiza.ipynb\" target=\"_parent\"><img src=\"https://colab.research.google.com/assets/colab-badge.svg\" alt=\"Open In Colab\"/></a>"
      ]
    },
    {
      "cell_type": "markdown",
      "source": [
        "**Task 2**"
      ],
      "metadata": {
        "id": "QXzOtoQChNmW"
      }
    },
    {
      "cell_type": "code",
      "source": [
        "def mark_grade():\n",
        "  global percentage\n",
        "  percentage = (input(\"Please enter your marks \" ))\n",
        "  if percentage >= \"90\":\n",
        "    print (\"Your grade is A+\")\n",
        "    return \"A+ grade\"   \n",
        "  elif percentage >= \"85\":\n",
        "    print (\"Your grade is A\")\n",
        "    return \"A grade\" \n",
        "  elif percentage >= \"80\":\n",
        "    print (\"Your grade is A-\")\n",
        "    return \"A- grade\"  \n",
        "  elif percentage >= \"75\":\n",
        "    print (\"Your grade is B+\")\n",
        "    return \"B+ grade\"  \n",
        "  elif percentage >= \"70\":\n",
        "    print (\"Your grade is B\")\n",
        "    return \"B grade\"\n",
        "  elif percentage >= \"65\":\n",
        "    print (\"Your grade is C+\")\n",
        "    return \"C+ grade\" \n",
        "  elif percentage >= \"60\":\n",
        "    print (\"Your grade is C\")\n",
        "    return \"C grade\"\n",
        "  elif percentage >= \"55\":\n",
        "    print (\"Your grade is D+\")\n",
        "    return \"D+ grade\"   \n",
        "  elif percentage >= \"50\":\n",
        "    print (\"Your grade is D\")\n",
        "    return \"D grade\" \n",
        "  elif percentage >= \"40\":\n",
        "    print (\"Your grade is E\")\n",
        "    return \"E grade\"  \n",
        "  elif percentage < \"40\":\n",
        "    print (\"Your grade is F\")\n",
        "    return \"F grade\"\n",
        "    \n",
        "x = mark_grade()\n",
        "def ext(): \n",
        "  print(\"What is your target Grade?\")\n",
        "  ideal=(input())\n",
        "  print (\"Your target grade is \",ideal, \" and your current grade is \",x )\n",
        "  if percentage > ideal:\n",
        "    print (\"You are exceeding expectations!!!\")\n",
        "  elif percentage == ideal:\n",
        "    print (\"You are doing a great job!!!\")\n",
        "  else:\n",
        "    print(\"You need to work hard to achieve your target grade\")\n",
        "\n",
        "ext()"
      ],
      "metadata": {
        "colab": {
          "base_uri": "https://localhost:8080/"
        },
        "id": "6i8dlnP_hL0c",
        "outputId": "e1aca030-322f-4ade-a8a7-36ca6985f162"
      },
      "execution_count": 2,
      "outputs": [
        {
          "output_type": "stream",
          "name": "stdout",
          "text": [
            "Please enter your marks 85\n",
            "Your grade is A\n",
            "What is your target Grade?\n",
            "A+\n",
            "Your target grade is  A+  and your current grade is  A grade\n",
            "You need to work hard to achieve your target grade\n"
          ]
        }
      ]
    },
    {
      "cell_type": "markdown",
      "source": [
        "**1D array from 0-9**"
      ],
      "metadata": {
        "id": "fZ4hLdQwiCut"
      }
    },
    {
      "cell_type": "code",
      "source": [
        "import numpy as np\n",
        "listA=[0,2,3,4,5,6,7,8,9]\n",
        "print (listA)\n",
        "print (type(listA))\n",
        "A = np.array(listA)\n",
        "print(A)\n",
        "print(type(A))\n",
        "print(A.ndim)"
      ],
      "metadata": {
        "colab": {
          "base_uri": "https://localhost:8080/"
        },
        "id": "aRCjJtSNiQF0",
        "outputId": "b41fcef3-af13-49e2-ec90-04d117e3d410"
      },
      "execution_count": 3,
      "outputs": [
        {
          "output_type": "stream",
          "name": "stdout",
          "text": [
            "[0, 2, 3, 4, 5, 6, 7, 8, 9]\n",
            "<class 'list'>\n",
            "[0 2 3 4 5 6 7 8 9]\n",
            "<class 'numpy.ndarray'>\n",
            "1\n"
          ]
        }
      ]
    },
    {
      "cell_type": "markdown",
      "source": [
        "**Create a 3×3 NumPy array of all Boolean value Trues**"
      ],
      "metadata": {
        "id": "CLWsmL1LiazX"
      }
    },
    {
      "cell_type": "code",
      "source": [
        "import numpy as np\n",
        "a = np.ones(9, dtype= bool)\n",
        "print(a)\n",
        "print(\"the dimension of array is \",a.ndim)\n",
        "b = a.copy()\n",
        "b.resize (3,3)\n",
        "print (b)\n",
        "print(\"The shape of array is \",b.shape)\n",
        "print(\"The dimension of the reshaped array is \",b.ndim)"
      ],
      "metadata": {
        "colab": {
          "base_uri": "https://localhost:8080/"
        },
        "id": "0plJKZ38idtE",
        "outputId": "c49b5775-8e5e-42f5-dbf4-b5ae6baff452"
      },
      "execution_count": 4,
      "outputs": [
        {
          "output_type": "stream",
          "name": "stdout",
          "text": [
            "[ True  True  True  True  True  True  True  True  True]\n",
            "the dimension of array is  1\n",
            "[[ True  True  True]\n",
            " [ True  True  True]\n",
            " [ True  True  True]]\n",
            "The shape of array is  (3, 3)\n",
            "The dimension of the reshaped array is  2\n"
          ]
        }
      ]
    },
    {
      "cell_type": "markdown",
      "source": [
        "**or**"
      ],
      "metadata": {
        "id": "VZSdU0DniovQ"
      }
    },
    {
      "cell_type": "code",
      "source": [
        "import numpy as np\n",
        "a = np.ones(9, dtype= bool).reshape(3,3)\n",
        "print(a)"
      ],
      "metadata": {
        "colab": {
          "base_uri": "https://localhost:8080/"
        },
        "id": "BrdVuVcBis5G",
        "outputId": "132bee68-78d8-455c-9779-733747a6ad2e"
      },
      "execution_count": 5,
      "outputs": [
        {
          "output_type": "stream",
          "name": "stdout",
          "text": [
            "[[ True  True  True]\n",
            " [ True  True  True]\n",
            " [ True  True  True]]\n"
          ]
        }
      ]
    },
    {
      "cell_type": "markdown",
      "source": [
        "**convert 1D array to 2D array with 2 rows**"
      ],
      "metadata": {
        "id": "PWSzCpUxi8Gm"
      }
    },
    {
      "cell_type": "code",
      "source": [
        "import numpy as np\n",
        "abc=np.array([1,2,3,4,5,6,7,8])\n",
        "print (abc)\n",
        "print(\"the dimension of array is \",abc.ndim)\n",
        "new = abc.reshape (2,4)\n",
        "print(new)\n",
        "print(\"the dimension of array is \",new.ndim)"
      ],
      "metadata": {
        "colab": {
          "base_uri": "https://localhost:8080/"
        },
        "id": "mmWRn8cGjDjw",
        "outputId": "e36bf801-9d8c-4dd0-8e51-cc7ae02ebe86"
      },
      "execution_count": 6,
      "outputs": [
        {
          "output_type": "stream",
          "name": "stdout",
          "text": [
            "[1 2 3 4 5 6 7 8]\n",
            "the dimension of array is  1\n",
            "[[1 2 3 4]\n",
            " [5 6 7 8]]\n",
            "the dimension of array is  2\n"
          ]
        }
      ]
    },
    {
      "cell_type": "markdown",
      "source": [
        "**Extract all odd numbers from array of 1-10**"
      ],
      "metadata": {
        "id": "iWT28N9-jP9n"
      }
    },
    {
      "cell_type": "code",
      "source": [
        "import numpy as np\n",
        "B=[1,2,3,4,5,6,7,8,9,10]\n",
        "print(B)\n",
        "print(type(B))\n",
        "array_B=np.array(B)\n",
        "print(array_B)\n",
        "print(\"Extracting all odd numbers from the array \",array_B [0:9:2]) # 0r[::2]"
      ],
      "metadata": {
        "colab": {
          "base_uri": "https://localhost:8080/"
        },
        "id": "nhxVJrDZjSfw",
        "outputId": "8b8aca2c-7b72-4331-b75f-2d0016424cc2"
      },
      "execution_count": 9,
      "outputs": [
        {
          "output_type": "stream",
          "name": "stdout",
          "text": [
            "[1, 2, 3, 4, 5, 6, 7, 8, 9, 10]\n",
            "<class 'list'>\n",
            "[ 1  2  3  4  5  6  7  8  9 10]\n",
            "Extracting all odd numbers from the array  [1 3 5 7 9]\n"
          ]
        }
      ]
    },
    {
      "cell_type": "markdown",
      "source": [
        "**Replace all odd numbers in an array of 1-10 with the value -1**"
      ],
      "metadata": {
        "id": "fhaOW8mVjbBv"
      }
    },
    {
      "cell_type": "code",
      "source": [
        "import numpy as np\n",
        "X=np.array([1,2,3,4,5,6,7,8,9,10]) #creating array with values\n",
        "print(X)\n",
        "newX = X.copy()\n",
        "newX [::2]=(-1) #slicing [::interval]= value to be replaced with\n",
        "print(newX)"
      ],
      "metadata": {
        "colab": {
          "base_uri": "https://localhost:8080/"
        },
        "id": "MChgSSaZjlwy",
        "outputId": "92836704-d501-4a5c-8de2-7d7d3d8fc848"
      },
      "execution_count": 8,
      "outputs": [
        {
          "output_type": "stream",
          "name": "stdout",
          "text": [
            "[ 1  2  3  4  5  6  7  8  9 10]\n",
            "[-1  2 -1  4 -1  6 -1  8 -1 10]\n"
          ]
        }
      ]
    },
    {
      "cell_type": "markdown",
      "source": [
        " **​Create two arrays a and b, stack these two arrays vertically use the np.dot and np.sum to calculate totals**"
      ],
      "metadata": {
        "id": "VIM1SVvfkQJ1"
      }
    },
    {
      "cell_type": "code",
      "source": [
        "import numpy as np\n",
        "a = np.arange(1,10).reshape(3,3)\n",
        "print(\"array a =\",a)\n",
        "b = np.arange(10,19).reshape(3,3)\n",
        "print(\"array b =\",b)\n",
        "c = np.dot(a,b)\n",
        "print(\"The dot product of array a and b =\", c)\n",
        "sum=np.sum(c)\n",
        "print(\"The sum of array a and b =\", sum)\n",
        "column = np.sum(c,axis=0) #column vise\n",
        "print(\"The sum of arrays a and b by column =\", column)\n",
        "row=np.sum(c,axis=1)# row vise\n",
        "print(\"The of arrays a and b by rows =\", row)"
      ],
      "metadata": {
        "colab": {
          "base_uri": "https://localhost:8080/"
        },
        "id": "TqIJfn9EkX5R",
        "outputId": "c54fc65f-816e-42ab-9d7f-518130fb560c"
      },
      "execution_count": 10,
      "outputs": [
        {
          "output_type": "stream",
          "name": "stdout",
          "text": [
            "array a = [[1 2 3]\n",
            " [4 5 6]\n",
            " [7 8 9]]\n",
            "array b = [[10 11 12]\n",
            " [13 14 15]\n",
            " [16 17 18]]\n",
            "The dot product of array a and b = [[ 84  90  96]\n",
            " [201 216 231]\n",
            " [318 342 366]]\n",
            "The sum of array a and b = 1944\n",
            "The sum of arrays a and b by column = [603 648 693]\n",
            "The of arrays a and b by rows = [ 270  648 1026]\n"
          ]
        }
      ]
    }
  ]
}