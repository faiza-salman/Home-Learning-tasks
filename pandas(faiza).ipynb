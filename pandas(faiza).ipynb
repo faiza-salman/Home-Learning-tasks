{
 "cells": [
  {
   "cell_type": "code",
   "execution_count": 1,
   "metadata": {},
   "outputs": [],
   "source": [
    "file = open(\"vacay.csv\",\"w\")\n",
    "file.close()"
   ]
  },
  {
   "cell_type": "markdown",
   "metadata": {},
   "source": [
    "How many rows and columns are there in your file?"
   ]
  },
  {
   "cell_type": "code",
   "execution_count": 84,
   "metadata": {},
   "outputs": [
    {
     "name": "stdout",
     "output_type": "stream",
     "text": [
      "      Destinations  Rating  Hotel stars  All inclusive hotels     Cities\n",
      "0           Turkey     9.5            4                   613   Istanbul\n",
      "1              UAE     7.0            5                   113      Dubai\n",
      "2     South Africa     7.5            5                  2186  Cape Town\n",
      "3           France     8.0            5                  2586       Nice\n",
      "4            Italy     8.0            4                  2968     Venice\n",
      "5            Spain     8.5            4                   846  Barcelona\n",
      "6           Greece     8.0            4                   485  Santorini\n",
      "7          Austria     8.5            5                   122     Vienna\n",
      "8            Egypt     7.5            3                   118      Cairo\n",
      "9            Japan     9.0            5                  1393      Tokyo\n",
      "10  Czech Republic     8.5            5                    60     Prague\n",
      "11     Netherlands     9.0            5                    90  Amsterdam\n",
      "12         Germany     9.5            4                   267     Munich\n",
      "13         Hungary     9.0            5                   117   Budapest\n",
      "14       Hong Kong     9.0            5                    50  Hong Kong\n",
      "The file has  15 number of rows and  5 number of columns\n"
     ]
    }
   ],
   "source": [
    "import pandas as pd\n",
    "import numpy as np\n",
    "#data = pd.read_csv(\"D:\\\\dataAcademy\\\\vacay.csv\")\n",
    "data=pd.read_csv(\"vacay.csv\")\n",
    "print(data)\n",
    "data.shape\n",
    "print(\"The file has \",data.shape[0] ,\"number of rows and \", data.shape[1], \"number of columns\")"
   ]
  },
  {
   "cell_type": "code",
   "execution_count": 114,
   "metadata": {},
   "outputs": [
    {
     "data": {
      "text/plain": [
       "Destinations             object\n",
       "Rating                  float64\n",
       "Hotel stars               int64\n",
       "All inclusive hotels      int64\n",
       "Cities                   object\n",
       "dtype: object"
      ]
     },
     "execution_count": 114,
     "metadata": {},
     "output_type": "execute_result"
    }
   ],
   "source": [
    "data.dtypes"
   ]
  },
  {
   "cell_type": "markdown",
   "metadata": {},
   "source": [
    "Print row 3-8 ( using iloc/loc)."
   ]
  },
  {
   "cell_type": "code",
   "execution_count": 42,
   "metadata": {},
   "outputs": [
    {
     "name": "stdout",
     "output_type": "stream",
     "text": [
      "   Destinations  Rating  Hotel stars  All inclusive hotels     Cities\n",
      "2  South Africa     7.5            5                  2186  Cape Town\n",
      "3        France     8.0            5                  2586       Nice\n",
      "4         Italy     8.0            4                  2968     Venice\n",
      "5         Spain     8.5            4                   846  Barcelona\n",
      "6        Greece     8.0            4                   485  Santorini\n",
      "7       Austria     8.5            5                   122     Vienna\n"
     ]
    }
   ],
   "source": [
    "data=pd.read_csv(\"vacay.csv\")\n",
    "print(data[2:8])"
   ]
  },
  {
   "cell_type": "markdown",
   "metadata": {},
   "source": [
    "with iloc"
   ]
  },
  {
   "cell_type": "code",
   "execution_count": 41,
   "metadata": {},
   "outputs": [
    {
     "name": "stdout",
     "output_type": "stream",
     "text": [
      "   Destinations  Rating  Hotel stars  All inclusive hotels     Cities\n",
      "2  South Africa     7.5            5                  2186  Cape Town\n",
      "3        France     8.0            5                  2586       Nice\n",
      "4         Italy     8.0            4                  2968     Venice\n",
      "5         Spain     8.5            4                   846  Barcelona\n",
      "6        Greece     8.0            4                   485  Santorini\n",
      "7       Austria     8.5            5                   122     Vienna\n"
     ]
    }
   ],
   "source": [
    "data= pd.read_csv(\"vacay.csv\")\n",
    "print(data.iloc[2:8, 0:5])"
   ]
  },
  {
   "cell_type": "code",
   "execution_count": 51,
   "metadata": {},
   "outputs": [
    {
     "name": "stdout",
     "output_type": "stream",
     "text": [
      "              Rating  Hotel stars  All inclusive hotels Cities\n",
      "Destinations                                                  \n",
      "France           8.0            5                  2586   Nice\n"
     ]
    },
    {
     "data": {
      "text/plain": [
       "Rating                        8.0\n",
       "Hotel stars                     4\n",
       "All inclusive hotels          485\n",
       "Cities                  Santorini\n",
       "Name: Greece, dtype: object"
      ]
     },
     "execution_count": 51,
     "metadata": {},
     "output_type": "execute_result"
    }
   ],
   "source": [
    "#data=pd.read_csv(\"D:\\\\dataAcademy\\\\vacay.csv\", index_col=\"Destinations\")\n",
    "\n",
    "# checking if file location is needed for read function\n",
    "\n",
    "data=pd.read_csv(\"vacay.csv\", index_col=\"Destinations\")\n",
    "print (data.loc[[\"France\"]])\n",
    "data.loc[\"Greece\"] #method 2"
   ]
  },
  {
   "cell_type": "markdown",
   "metadata": {},
   "source": [
    "Find the mean number of all-inclusive hotels across all destinations."
   ]
  },
  {
   "cell_type": "code",
   "execution_count": 106,
   "metadata": {},
   "outputs": [
    {
     "name": "stdout",
     "output_type": "stream",
     "text": [
      "The mean of all inclusive hotels is 800.93\n"
     ]
    }
   ],
   "source": [
    "data=pd.read_csv(\"vacay.csv\")\n",
    "formula= data[\"All inclusive hotels\"].mean() #mean calculation of a particular column\n",
    "print(f\"The mean of all inclusive hotels is {formula:.2f}\")"
   ]
  },
  {
   "cell_type": "markdown",
   "metadata": {},
   "source": [
    "Find the lowest scoring destination."
   ]
  },
  {
   "cell_type": "code",
   "execution_count": 131,
   "metadata": {},
   "outputs": [
    {
     "name": "stdout",
     "output_type": "stream",
     "text": [
      "Lowest scoring destination  \n",
      "   Destinations  Rating  Hotel stars  All inclusive hotels Cities\n",
      "1          UAE     7.0            5                   113  Dubai\n"
     ]
    }
   ],
   "source": [
    "data=pd.read_csv(\"vacay.csv\")\n",
    "\n",
    "minimum= data[data[\"Rating\"]==data[\"Rating\"].min()]\n",
    "print(\"Lowest scoring destination \",'\\n',minimum)"
   ]
  },
  {
   "cell_type": "markdown",
   "metadata": {},
   "source": [
    "Find the highest scoring destination"
   ]
  },
  {
   "cell_type": "code",
   "execution_count": 130,
   "metadata": {},
   "outputs": [
    {
     "name": "stdout",
     "output_type": "stream",
     "text": [
      "Highest scoring destinations \n",
      "    Destinations  Rating  Hotel stars  All inclusive hotels    Cities\n",
      "0        Turkey     9.5            4                   613  Istanbul\n",
      "12      Germany     9.5            4                   267    Munich\n"
     ]
    }
   ],
   "source": [
    "maximum = data[data[\"Rating\"]== data[\"Rating\"].max()]\n",
    "print(\"Highest scoring destinations\",'\\n', maximum)"
   ]
  },
  {
   "cell_type": "markdown",
   "metadata": {},
   "source": [
    "Find all the destinations where there are more than 90 all-inclusive hotels. \n",
    "(changed the value to 90)"
   ]
  },
  {
   "cell_type": "code",
   "execution_count": 136,
   "metadata": {},
   "outputs": [
    {
     "name": "stdout",
     "output_type": "stream",
     "text": [
      "    Destinations  Rating  Hotel stars  All inclusive hotels     Cities\n",
      "0         Turkey     9.5            4                   613   Istanbul\n",
      "1            UAE     7.0            5                   113      Dubai\n",
      "2   South Africa     7.5            5                  2186  Cape Town\n",
      "3         France     8.0            5                  2586       Nice\n",
      "4          Italy     8.0            4                  2968     Venice\n",
      "5          Spain     8.5            4                   846  Barcelona\n",
      "6         Greece     8.0            4                   485  Santorini\n",
      "7        Austria     8.5            5                   122     Vienna\n",
      "8          Egypt     7.5            3                   118      Cairo\n",
      "9          Japan     9.0            5                  1393      Tokyo\n",
      "11   Netherlands     9.0            5                    90  Amsterdam\n",
      "12       Germany     9.5            4                   267     Munich\n",
      "13       Hungary     9.0            5                   117   Budapest\n"
     ]
    }
   ],
   "source": [
    "hotels= data[data[\"All inclusive hotels\"] >= 90]\n",
    "print (hotels)\n"
   ]
  },
  {
   "cell_type": "markdown",
   "metadata": {},
   "source": [
    "Filter the data by score above 8.  "
   ]
  },
  {
   "cell_type": "code",
   "execution_count": 145,
   "metadata": {},
   "outputs": [
    {
     "name": "stdout",
     "output_type": "stream",
     "text": [
      "List of destinations with a rating higher than 8 : \n",
      "       Destinations  Rating  Hotel stars  All inclusive hotels     Cities\n",
      "0           Turkey     9.5            4                   613   Istanbul\n",
      "5            Spain     8.5            4                   846  Barcelona\n",
      "7          Austria     8.5            5                   122     Vienna\n",
      "9            Japan     9.0            5                  1393      Tokyo\n",
      "10  Czech Republic     8.5            5                    60     Prague\n",
      "11     Netherlands     9.0            5                    90  Amsterdam\n",
      "12         Germany     9.5            4                   267     Munich\n",
      "13         Hungary     9.0            5                   117   Budapest\n",
      "14       Hong Kong     9.0            5                    50  Hong Kong\n"
     ]
    }
   ],
   "source": [
    "more_8 = df[df[\"Rating\"]> 8]\n",
    "print(\"List of destinations with a rating higher than 8 :\", '\\n', more_8)"
   ]
  },
  {
   "cell_type": "markdown",
   "metadata": {},
   "source": [
    "Filter the data score below 2\n",
    "(changing the value to 2)"
   ]
  },
  {
   "cell_type": "code",
   "execution_count": 150,
   "metadata": {},
   "outputs": [
    {
     "name": "stdout",
     "output_type": "stream",
     "text": [
      "   Destinations  Rating  Hotel stars  All inclusive hotels     Cities\n",
      "1           UAE     7.0            5                   113      Dubai\n",
      "2  South Africa     7.5            5                  2186  Cape Town\n",
      "8         Egypt     7.5            3                   118      Cairo\n"
     ]
    }
   ],
   "source": [
    "below_8= data[data[\"Rating\"] < 8]\n",
    "print(below_8)"
   ]
  },
  {
   "cell_type": "markdown",
   "metadata": {},
   "source": [
    "Extension: Is there a correlation between number of all-inclusive hotels and score?\n",
    "Create a data visualisation diagram to show destination and highest scores?"
   ]
  },
  {
   "cell_type": "code",
   "execution_count": 162,
   "metadata": {},
   "outputs": [
    {
     "name": "stdout",
     "output_type": "stream",
     "text": [
      "The correlation between number of all-inclusive hotels and score is: -0.28\n"
     ]
    }
   ],
   "source": [
    "data=pd.read_csv(\"vacay.csv\")\n",
    "relation= data[\"All inclusive hotels\"].corr(data[\"Rating\"])\n",
    "print(f\"The correlation between number of all-inclusive hotels and score is: {relation:.2f}\")"
   ]
  },
  {
   "cell_type": "code",
   "execution_count": 156,
   "metadata": {},
   "outputs": [
    {
     "data": {
      "text/plain": [
       "<function matplotlib.pyplot.show(close=None, block=None)>"
      ]
     },
     "execution_count": 156,
     "metadata": {},
     "output_type": "execute_result"
    },
    {
     "data": {
      "image/png": "[encoded data removed]",
      "text/plain": [
       "<Figure size 432x288 with 1 Axes>"
      ]
     },
     "metadata": {
      "needs_background": "light"
     },
     "output_type": "display_data"
    }
   ],
   "source": [
    "import matplotlib.pyplot as plt\n",
    "data=pd.read_csv(\"vacay.csv\")\n",
    "df= pd.DataFrame(data)\n",
    "x = list(df.iloc[:,0])\n",
    "y = list(df.iloc[:,1])\n",
    "plt.bar(x,y)\n",
    "plt.title(\"Relation between Destinations and Rating\")\n",
    "plt.xlabel(\"Destinations\")\n",
    "plt.ylabel(\"Rating\")\n",
    "plt.show"
   ]
  },
  {
   "cell_type": "code",
   "execution_count": 43,
   "metadata": {},
   "outputs": [
    {
     "data": {
      "text/html": [
       "<div>\n",
       "<style scoped>\n",
       "    .dataframe tbody tr th:only-of-type {\n",
       "        vertical-align: middle;\n",
       "    }\n",
       "\n",
       "    .dataframe tbody tr th {\n",
       "        vertical-align: top;\n",
       "    }\n",
       "\n",
       "    .dataframe thead th {\n",
       "        text-align: right;\n",
       "    }\n",
       "</style>\n",
       "<table border=\"1\" class=\"dataframe\">\n",
       "  <thead>\n",
       "    <tr style=\"text-align: right;\">\n",
       "      <th></th>\n",
       "      <th>Destinations</th>\n",
       "      <th>Rating</th>\n",
       "      <th>Hotel stars</th>\n",
       "      <th>All inclusive hotels</th>\n",
       "      <th>Cities</th>\n",
       "    </tr>\n",
       "  </thead>\n",
       "  <tbody>\n",
       "    <tr>\n",
       "      <th>0</th>\n",
       "      <td>Turkey</td>\n",
       "      <td>9.5</td>\n",
       "      <td>4</td>\n",
       "      <td>613</td>\n",
       "      <td>Istanbul</td>\n",
       "    </tr>\n",
       "    <tr>\n",
       "      <th>1</th>\n",
       "      <td>UAE</td>\n",
       "      <td>7.0</td>\n",
       "      <td>5</td>\n",
       "      <td>113</td>\n",
       "      <td>Dubai</td>\n",
       "    </tr>\n",
       "    <tr>\n",
       "      <th>2</th>\n",
       "      <td>South Africa</td>\n",
       "      <td>7.5</td>\n",
       "      <td>5</td>\n",
       "      <td>2186</td>\n",
       "      <td>Cape Town</td>\n",
       "    </tr>\n",
       "    <tr>\n",
       "      <th>3</th>\n",
       "      <td>France</td>\n",
       "      <td>8.0</td>\n",
       "      <td>5</td>\n",
       "      <td>2586</td>\n",
       "      <td>Nice</td>\n",
       "    </tr>\n",
       "    <tr>\n",
       "      <th>4</th>\n",
       "      <td>Italy</td>\n",
       "      <td>8.0</td>\n",
       "      <td>4</td>\n",
       "      <td>2968</td>\n",
       "      <td>Venice</td>\n",
       "    </tr>\n",
       "  </tbody>\n",
       "</table>\n",
       "</div>"
      ],
      "text/plain": [
       "   Destinations  Rating  Hotel stars  All inclusive hotels     Cities\n",
       "0        Turkey     9.5            4                   613   Istanbul\n",
       "1           UAE     7.0            5                   113      Dubai\n",
       "2  South Africa     7.5            5                  2186  Cape Town\n",
       "3        France     8.0            5                  2586       Nice\n",
       "4         Italy     8.0            4                  2968     Venice"
      ]
     },
     "execution_count": 43,
     "metadata": {},
     "output_type": "execute_result"
    }
   ],
   "source": [
    "det_data=pd.read_csv(\"D:\\\\dataAcademy\\\\vacay.csv\")\n",
    "det_data.head()"
   ]
  }
 ],
 "metadata": {
  "interpreter": {
   "hash": "bf18297ba29ab59974e3cde921359bf4732846305eb0ebd212cf3897d725727a"
  },
  "kernelspec": {
   "display_name": "Python 3.9.10 64-bit",
   "language": "python",
   "name": "python3"
  },
  "language_info": {
   "codemirror_mode": {
    "name": "ipython",
    "version": 3
   },
   "file_extension": ".py",
   "mimetype": "text/x-python",
   "name": "python",
   "nbconvert_exporter": "python",
   "pygments_lexer": "ipython3",
   "version": "3.9.10"
  },
  "orig_nbformat": 4
 },
 "nbformat": 4,
 "nbformat_minor": 2
}
